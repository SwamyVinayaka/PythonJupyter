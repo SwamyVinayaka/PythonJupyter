{
 "cells": [
  {
   "cell_type": "code",
   "execution_count": 16,
   "metadata": {},
   "outputs": [],
   "source": [
    "import sqlite3\n",
    "\n",
    "from sqlite3 import Error\n",
    " \n",
    "def sql_connection():\n",
    " \n",
    "    try:\n",
    " \n",
    "        con = sqlite3.connect('mydatabase.db')\n",
    " \n",
    "        return con\n",
    " \n",
    "    except Error:\n",
    " \n",
    "        print(Error)\n",
    " \n",
    "def sql_table(con):\n",
    " \n",
    "    \n",
    "    table1 = \"CREATE TABLE employees1(id integer PRIMARY KEY, name text, salary real, department text, position text, hireDate text)\"\n",
    "    table2 = \"CREATE TABLE employees2(id integer PRIMARY KEY, name text, salary real, department text, position text, hireDate text)\")\n",
    "    for i in [table1,table1]:\n",
    "        cursorObj = con.cursor()\n",
    "        cursorObj.execute(i)\n",
    "\n",
    "        con.commit()\n",
    " \n",
    "con = sql_connection()\n",
    " \n",
    "sql_table(con)"
   ]
  },
  {
   "cell_type": "code",
   "execution_count": 17,
   "metadata": {},
   "outputs": [],
   "source": [
    "import sqlite3\n",
    " \n",
    "con = sqlite3.connect('mydatabase.db')\n",
    " \n",
    "def sql_insert(con, entities):\n",
    " \n",
    "    cursorObj = con.cursor()\n",
    "    \n",
    "    cursorObj.execute('INSERT INTO employees(id, name, salary, department, position, hireDate) VALUES(?, ?, ?, ?, ?, ?)', entities)\n",
    "    \n",
    "    con.commit()\n",
    " \n",
    "entities = (2, 'Andrew', 800, 'IT', 'Tech', '2018-02-06')\n",
    " \n",
    "sql_insert(con, entities)"
   ]
  },
  {
   "cell_type": "code",
   "execution_count": 18,
   "metadata": {},
   "outputs": [],
   "source": [
    "import sqlite3\n",
    " \n",
    "con = sqlite3.connect('mydatabase.db')\n",
    " \n",
    "def sql_update(con):\n",
    " \n",
    "    cursorObj = con.cursor()\n",
    " \n",
    "    cursorObj.execute('UPDATE employees SET name = \"Rogers\" where id = 2')\n",
    " \n",
    "    con.commit()\n",
    " \n",
    "sql_update(con)"
   ]
  },
  {
   "cell_type": "code",
   "execution_count": 69,
   "metadata": {},
   "outputs": [
    {
     "name": "stdout",
     "output_type": "stream",
     "text": [
      "Rogers\n"
     ]
    }
   ],
   "source": [
    "import sqlite3\n",
    " \n",
    "con = sqlite3.connect('mydatabase.db')\n",
    " \n",
    "def sql_fetch(con):\n",
    " \n",
    "    cursorObj = con.cursor()\n",
    " \n",
    "    cursorObj.execute('SELECT * FROM employees')\n",
    " \n",
    "    rows = cursorObj.fetchall()\n",
    " \n",
    "    for row in rows:\n",
    " \n",
    "        print(row[1])\n",
    " \n",
    "sql_fetch(con)"
   ]
  },
  {
   "cell_type": "code",
   "execution_count": 68,
   "metadata": {},
   "outputs": [
    {
     "name": "stdout",
     "output_type": "stream",
     "text": [
      "(2, 'Rogers', 800.0, 'IT', 'Tech', '2018-02-06')\n"
     ]
    }
   ],
   "source": [
    "\n",
    "import sqlite3\n",
    " \n",
    "con = sqlite3.connect('mydatabase.db')\n",
    " \n",
    "def sql_fetch(con):\n",
    " \n",
    "    cursorObj = con.cursor()\n",
    " \n",
    "    cursorObj.execute('SELECT id, name FROM employees WHERE salary > 800.0')\n",
    " \n",
    "    rows = cursorObj.fetchall()\n",
    " \n",
    "    for row in rows:\n",
    " \n",
    "        print(row)\n",
    " \n",
    "sql_fetch(con)"
   ]
  },
  {
   "cell_type": "code",
   "execution_count": 5,
   "metadata": {},
   "outputs": [
    {
     "name": "stdout",
     "output_type": "stream",
     "text": [
      "[('projects',), ('employees',)]\n"
     ]
    }
   ],
   "source": [
    "import sqlite3\n",
    " \n",
    "con = sqlite3.connect('mydatabase.db')\n",
    " \n",
    "def sql_fetch(con):\n",
    " \n",
    "    cursorObj = con.cursor()\n",
    " \n",
    "    cursorObj.execute('SELECT name from sqlite_master where type= \"table\"')\n",
    " \n",
    "    print(cursorObj.fetchall())\n",
    " \n",
    "sql_fetch(con)"
   ]
  },
  {
   "cell_type": "code",
   "execution_count": 22,
   "metadata": {},
   "outputs": [],
   "source": [
    "\n",
    "import sqlite3\n",
    " \n",
    "con = sqlite3.connect('mydatabase.db')\n",
    " \n",
    "def sql_fetch(con):\n",
    " \n",
    "    cursorObj = con.cursor()\n",
    " \n",
    "    cursorObj.execute('create table if not exists projects(id integer, name text)')\n",
    " \n",
    "    con.commit()\n",
    " \n",
    "sql_fetch(con)"
   ]
  },
  {
   "cell_type": "code",
   "execution_count": null,
   "metadata": {},
   "outputs": [],
   "source": [
    "import sqlite3\n",
    " \n",
    "con = sqlite3.connect('mydatabase.db')\n",
    " \n",
    "def sql_fetch(con):\n",
    " \n",
    "    cursorObj = con.cursor()\n",
    " \n",
    "    cursorObj.execute('DROP table if exists employees')\n",
    " \n",
    "    con.commit()\n",
    " \n",
    "sql_fetch(con)"
   ]
  },
  {
   "cell_type": "code",
   "execution_count": 61,
   "metadata": {},
   "outputs": [
    {
     "name": "stdout",
     "output_type": "stream",
     "text": [
      "Enter 1 for registration\n",
      " Enter 2 for login\n",
      " and 3 for updatepassword1\n",
      "Username:111\n",
      "Password:········\n"
     ]
    }
   ],
   "source": [
    "\n",
    "import sqlite3\n",
    "import random\n",
    "import getpass\n",
    "\n",
    "    \n",
    "\n",
    "def registration(cur):\n",
    "    user = input (\"Username:\")\n",
    "    pswd = getpass.getpass(\"Password:\")\n",
    "    cursor = cur.cursor()\n",
    "    \n",
    "    cursor.execute('INSERT INTO usercredentials(username, password) VALUES(?, ?)', (user,pswd))\n",
    "    cur.commit()\n",
    " \n",
    "    \n",
    "def login(cur):\n",
    "    \n",
    "    cursor = cur.cursor()\n",
    "    user = input (\"Username\")    \n",
    "    pswd = getpass.getpass(\"Password:\")\n",
    "    cursor.execute('SELECT * from usercredentials WHERE username=\"%s\" AND password=\"%s\"' % (user, pswd))\n",
    "    if cursor.fetchone() is not None:\n",
    "        print (\"Welcome Ur OTP:\",random.randint(999,10000))\n",
    "    else:\n",
    "        print (\"Login failed\")\n",
    " \n",
    "\n",
    "def updatepassword(cur):\n",
    "\n",
    "    cursor = cur.cursor()\n",
    "    user = input (\"Username\")\n",
    "    pswd = getpass.getpass(\"Password:\")      \n",
    "    cursor.execute('SELECT * from usercredentials WHERE username=\"%s\" AND password=\"%s\"' % (user, pswd))\n",
    "        \n",
    "                   \n",
    "    if cursor.fetchone() is not None:\n",
    "        pswd = getpass.getpass(\"Enter new password :\") \n",
    "        cursor.execute('UPDATE usercredentials SET password=\"%s\" where username=\"%s\"'% (pswd,user))\n",
    "        \n",
    "        \n",
    "        \n",
    "    else:\n",
    "        print (\"Login failed\")\n",
    "\n",
    "def deleteUser(cur):\n",
    "\n",
    "    cursor = cur.cursor()\n",
    "    user = input (\"Username\")\n",
    "    pswd = getpass.getpass(\"Password:\")      \n",
    "    cursor.execute('SELECT * from usercredentials WHERE username=\"%s\" AND password=\"%s\"' % (user, pswd))\n",
    "        \n",
    "                   \n",
    "    if cursor.fetchone() is not None:\n",
    "        \n",
    "        cursor.execute('DELETE FROM usercredentials WHERE username=\"%s\"' % (user))\n",
    "        print ('\"%s\" deleted from DataBase'%(user))              \n",
    "        \n",
    "    else:\n",
    "        print (\"Login failed\")\n",
    "        \n",
    "def deleteTable(cur):\n",
    "    cursor = cur.cursor()\n",
    "    user = input (\"Username\")\n",
    "    pswd = getpass.getpass(\"Password:\")      \n",
    "    cursor.execute('DROP TABLE usercredentials ')\n",
    "        \n",
    "  \n",
    "    \n",
    "    \n",
    "\n",
    "def main():\n",
    "    \n",
    "    mode = int (input(\"Enter 1 for registration\\n Enter 2 for login\\n and 3 for updatepassword\"))\n",
    "    db = sqlite3.connect('login.db')\n",
    "    c = db.cursor()\n",
    "    c.execute('create table if not exists usercredentials \\\n",
    "              (ID INTEGER PRIMARY KEY AUTOINCREMENT, username text NOT NULL, password text NOT NULL);')\n",
    "    \n",
    "    if mode ==1:\n",
    "        registration(db)\n",
    "    elif mode ==2:\n",
    "        login(db)\n",
    "    elif mode == 3:\n",
    "        updatePassword(db)\n",
    "    elif mode == 4:\n",
    "        deleteUser(db)\n",
    "    elif mode == 5:\n",
    "        deleteTable(db)\n",
    "    else:\n",
    "        print(\"enter valid mode\")\n",
    "    #cursor.close()\n",
    "    \n",
    "    db.commit()\n",
    "    db.close()\n",
    "    \n",
    "if __name__ == '__main__':\n",
    "    main()\n",
    "  \n",
    "        \n",
    "\n",
    "    \n",
    "\n",
    "\n"
   ]
  },
  {
   "cell_type": "code",
   "execution_count": 62,
   "metadata": {},
   "outputs": [
    {
     "name": "stdout",
     "output_type": "stream",
     "text": [
      "[(1, '111', '111')]\n"
     ]
    }
   ],
   "source": [
    "import sqlite3\n",
    "db = sqlite3.connect('login.db')\n",
    "c = db.cursor()\n",
    "c.execute('create table if not exists usercredentials \\\n",
    "              (ID INTEGER PRIMARY KEY AUTOINCREMENT, username text NOT NULL, password text NOT NULL);')\n",
    "\n",
    "c.execute('SELECT * FROM usercredentials')\n",
    "row = c.fetchall()\n",
    "print(row)\n",
    "#for i in row:\n",
    "#    print(i)\n",
    "db.close()\n",
    "\n"
   ]
  },
  {
   "cell_type": "code",
   "execution_count": null,
   "metadata": {},
   "outputs": [],
   "source": []
  }
 ],
 "metadata": {
  "kernelspec": {
   "display_name": "Python 3",
   "language": "python",
   "name": "python3"
  },
  "language_info": {
   "codemirror_mode": {
    "name": "ipython",
    "version": 3
   },
   "file_extension": ".py",
   "mimetype": "text/x-python",
   "name": "python",
   "nbconvert_exporter": "python",
   "pygments_lexer": "ipython3",
   "version": "3.6.8"
  }
 },
 "nbformat": 4,
 "nbformat_minor": 2
}

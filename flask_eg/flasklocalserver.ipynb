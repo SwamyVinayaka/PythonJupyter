{
 "cells": [
  {
   "cell_type": "code",
   "execution_count": 2,
   "metadata": {},
   "outputs": [
    {
     "name": "stderr",
     "output_type": "stream",
     "text": [
      " * Running on http://localhost:2000/ (Press CTRL+C to quit)\n",
      "127.0.0.1 - - [13/Oct/2019 10:28:14] \"\u001b[33mGET / HTTP/1.1\u001b[0m\" 404 -\n",
      "127.0.0.1 - - [13/Oct/2019 10:28:26] \"\u001b[37mGET /ret HTTP/1.1\u001b[0m\" 200 -\n"
     ]
    }
   ],
   "source": [
    "from flask import Flask, render_template\n",
    "from werkzeug.wrappers import Request, Response\n",
    "\n",
    "app = Flask(__name__)\n",
    "\n",
    "@app.route('/')\n",
    "def index():\n",
    "\treturn render_template('first_app.html')\n",
    "\n",
    "if __name__ == '__main__':\n",
    "    from werkzeug.serving import run_simple\n",
    "      \n",
    "    run_simple('localhost', 2000, app)"
   ]
  },
  {
   "cell_type": "code",
   "execution_count": null,
   "metadata": {},
   "outputs": [
    {
     "name": "stderr",
     "output_type": "stream",
     "text": [
      " * Running on http://localhost:4000/ (Press CTRL+C to quit)\n",
      "127.0.0.1 - - [13/Oct/2019 10:30:44] \"\u001b[37mGET / HTTP/1.1\u001b[0m\" 200 -\n",
      "127.0.0.1 - - [13/Oct/2019 10:30:44] \"\u001b[37mGET /static/style.css HTTP/1.1\u001b[0m\" 200 -\n",
      "127.0.0.1 - - [13/Oct/2019 10:30:44] \"\u001b[33mGET /favicon.ico HTTP/1.1\u001b[0m\" 404 -\n",
      "127.0.0.1 - - [13/Oct/2019 10:30:57] \"\u001b[37mPOST /hello HTTP/1.1\u001b[0m\" 200 -\n",
      "127.0.0.1 - - [13/Oct/2019 10:31:32] \"\u001b[37mGET / HTTP/1.1\u001b[0m\" 200 -\n",
      "127.0.0.1 - - [13/Oct/2019 10:31:42] \"\u001b[33mGET /welo HTTP/1.1\u001b[0m\" 404 -\n",
      "127.0.0.1 - - [13/Oct/2019 10:32:48] \"\u001b[37mGET / HTTP/1.1\u001b[0m\" 200 -\n"
     ]
    }
   ],
   "source": [
    "from flask import Flask, render_template, request\n",
    "from wtforms import Form, TextAreaField, validators\n",
    "from werkzeug.wrappers import Request, Response\n",
    "\n",
    "app = Flask(__name__)\n",
    "\n",
    "class HelloForm(Form):\n",
    "\tsayhello = TextAreaField('',[validators.DataRequired()])\n",
    "\n",
    "@app.route('/')\n",
    "def index():\n",
    "\tform = HelloForm(request.form)\n",
    "\treturn render_template('editedfirst.html', form=form)\n",
    "\n",
    "@app.route('/hello', methods=['POST'])\n",
    "def hello():\n",
    "\tform = HelloForm(request.form)\n",
    "\tif request.method == 'POST' and form.validate():\n",
    "\t\tname = request.form['sayhello']\n",
    "\t\treturn render_template('hello.html', name=name)\n",
    "\treturn render_template('editedfirst.html', form=form)\n",
    "\n",
    "if __name__ == '__main__':\n",
    "    from werkzeug.serving import run_simple\n",
    "    run_simple('localhost', 4000, app)"
   ]
  },
  {
   "cell_type": "code",
   "execution_count": null,
   "metadata": {},
   "outputs": [],
   "source": []
  },
  {
   "cell_type": "code",
   "execution_count": null,
   "metadata": {},
   "outputs": [],
   "source": []
  }
 ],
 "metadata": {
  "kernelspec": {
   "display_name": "Python 3",
   "language": "python",
   "name": "python3"
  },
  "language_info": {
   "codemirror_mode": {
    "name": "ipython",
    "version": 3
   },
   "file_extension": ".py",
   "mimetype": "text/x-python",
   "name": "python",
   "nbconvert_exporter": "python",
   "pygments_lexer": "ipython3",
   "version": "3.6.8"
  }
 },
 "nbformat": 4,
 "nbformat_minor": 2
}
